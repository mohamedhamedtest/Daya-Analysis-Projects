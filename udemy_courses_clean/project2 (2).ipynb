{
 "cells": [
  {
   "cell_type": "code",
   "execution_count": 69,
   "id": "ed0cc0d0-e9c6-4be0-9ac2-53abbf7039fd",
   "metadata": {},
   "outputs": [],
   "source": [
    "import numpy as np\n",
    "import pandas as pd\n",
    "import matplotlib.pyplot as plt\n",
    "import seaborn as sns"
   ]
  },
  {
   "cell_type": "code",
   "execution_count": 71,
   "id": "5e3042ba-46c9-4cb9-b6b5-36323b18639c",
   "metadata": {},
   "outputs": [
    {
     "data": {
      "text/html": [
       "<div>\n",
       "<style scoped>\n",
       "    .dataframe tbody tr th:only-of-type {\n",
       "        vertical-align: middle;\n",
       "    }\n",
       "\n",
       "    .dataframe tbody tr th {\n",
       "        vertical-align: top;\n",
       "    }\n",
       "\n",
       "    .dataframe thead th {\n",
       "        text-align: right;\n",
       "    }\n",
       "</style>\n",
       "<table border=\"1\" class=\"dataframe\">\n",
       "  <thead>\n",
       "    <tr style=\"text-align: right;\">\n",
       "      <th></th>\n",
       "      <th>Unnamed: 0</th>\n",
       "      <th>course_id</th>\n",
       "      <th>course_title</th>\n",
       "      <th>url</th>\n",
       "      <th>is_paid</th>\n",
       "      <th>price</th>\n",
       "      <th>num_subscribers</th>\n",
       "      <th>num_reviews</th>\n",
       "      <th>num_lectures</th>\n",
       "      <th>level</th>\n",
       "      <th>content_duration</th>\n",
       "      <th>published_timestamp</th>\n",
       "      <th>subject</th>\n",
       "      <th>clean_course_title</th>\n",
       "    </tr>\n",
       "  </thead>\n",
       "  <tbody>\n",
       "    <tr>\n",
       "      <th>0</th>\n",
       "      <td>0</td>\n",
       "      <td>1070968</td>\n",
       "      <td>Ultimate Investment Banking Course</td>\n",
       "      <td>https://www.udemy.com/ultimate-investment-bank...</td>\n",
       "      <td>True</td>\n",
       "      <td>200</td>\n",
       "      <td>2147</td>\n",
       "      <td>23</td>\n",
       "      <td>51</td>\n",
       "      <td>All Levels</td>\n",
       "      <td>1.5 hours</td>\n",
       "      <td>2017-01-18T20:58:58Z</td>\n",
       "      <td>Business Finance</td>\n",
       "      <td>Ultimate Investment Banking Course</td>\n",
       "    </tr>\n",
       "    <tr>\n",
       "      <th>1</th>\n",
       "      <td>1</td>\n",
       "      <td>1113822</td>\n",
       "      <td>Complete GST Course &amp; Certification - Grow You...</td>\n",
       "      <td>https://www.udemy.com/goods-and-services-tax/</td>\n",
       "      <td>True</td>\n",
       "      <td>75</td>\n",
       "      <td>2792</td>\n",
       "      <td>923</td>\n",
       "      <td>274</td>\n",
       "      <td>All Levels</td>\n",
       "      <td>39 hours</td>\n",
       "      <td>2017-03-09T16:34:20Z</td>\n",
       "      <td>Business Finance</td>\n",
       "      <td>Complete GST Course  Certification  Grow Practice</td>\n",
       "    </tr>\n",
       "    <tr>\n",
       "      <th>2</th>\n",
       "      <td>2</td>\n",
       "      <td>1006314</td>\n",
       "      <td>Financial Modeling for Business Analysts and C...</td>\n",
       "      <td>https://www.udemy.com/financial-modeling-for-b...</td>\n",
       "      <td>True</td>\n",
       "      <td>45</td>\n",
       "      <td>2174</td>\n",
       "      <td>74</td>\n",
       "      <td>51</td>\n",
       "      <td>Intermediate Level</td>\n",
       "      <td>2.5 hours</td>\n",
       "      <td>2016-12-19T19:26:30Z</td>\n",
       "      <td>Business Finance</td>\n",
       "      <td>Financial Modeling Business Analysts Consultants</td>\n",
       "    </tr>\n",
       "    <tr>\n",
       "      <th>3</th>\n",
       "      <td>3</td>\n",
       "      <td>1210588</td>\n",
       "      <td>Beginner to Pro - Financial Analysis in Excel ...</td>\n",
       "      <td>https://www.udemy.com/complete-excel-finance-c...</td>\n",
       "      <td>True</td>\n",
       "      <td>95</td>\n",
       "      <td>2451</td>\n",
       "      <td>11</td>\n",
       "      <td>36</td>\n",
       "      <td>All Levels</td>\n",
       "      <td>3 hours</td>\n",
       "      <td>2017-05-30T20:07:24Z</td>\n",
       "      <td>Business Finance</td>\n",
       "      <td>Beginner Pro  Financial Analysis Excel 2017</td>\n",
       "    </tr>\n",
       "    <tr>\n",
       "      <th>4</th>\n",
       "      <td>4</td>\n",
       "      <td>1011058</td>\n",
       "      <td>How To Maximize Your Profits Trading Options</td>\n",
       "      <td>https://www.udemy.com/how-to-maximize-your-pro...</td>\n",
       "      <td>True</td>\n",
       "      <td>200</td>\n",
       "      <td>1276</td>\n",
       "      <td>45</td>\n",
       "      <td>26</td>\n",
       "      <td>Intermediate Level</td>\n",
       "      <td>2 hours</td>\n",
       "      <td>2016-12-13T14:57:18Z</td>\n",
       "      <td>Business Finance</td>\n",
       "      <td>Maximize Profits Trading Options</td>\n",
       "    </tr>\n",
       "    <tr>\n",
       "      <th>...</th>\n",
       "      <td>...</td>\n",
       "      <td>...</td>\n",
       "      <td>...</td>\n",
       "      <td>...</td>\n",
       "      <td>...</td>\n",
       "      <td>...</td>\n",
       "      <td>...</td>\n",
       "      <td>...</td>\n",
       "      <td>...</td>\n",
       "      <td>...</td>\n",
       "      <td>...</td>\n",
       "      <td>...</td>\n",
       "      <td>...</td>\n",
       "      <td>...</td>\n",
       "    </tr>\n",
       "    <tr>\n",
       "      <th>3678</th>\n",
       "      <td>3678</td>\n",
       "      <td>775618</td>\n",
       "      <td>Learn jQuery from Scratch - Master of JavaScri...</td>\n",
       "      <td>https://www.udemy.com/easy-jquery-for-beginner...</td>\n",
       "      <td>True</td>\n",
       "      <td>100</td>\n",
       "      <td>1040</td>\n",
       "      <td>14</td>\n",
       "      <td>21</td>\n",
       "      <td>All Levels</td>\n",
       "      <td>2 hours</td>\n",
       "      <td>2016-06-14T17:36:46Z</td>\n",
       "      <td>Web Development</td>\n",
       "      <td>Learn jQuery Scratch  Master JavaScript library</td>\n",
       "    </tr>\n",
       "    <tr>\n",
       "      <th>3679</th>\n",
       "      <td>3679</td>\n",
       "      <td>1088178</td>\n",
       "      <td>How To Design A WordPress Website With No Codi...</td>\n",
       "      <td>https://www.udemy.com/how-to-make-a-wordpress-...</td>\n",
       "      <td>True</td>\n",
       "      <td>25</td>\n",
       "      <td>306</td>\n",
       "      <td>3</td>\n",
       "      <td>42</td>\n",
       "      <td>Beginner Level</td>\n",
       "      <td>3.5 hours</td>\n",
       "      <td>2017-03-10T22:24:30Z</td>\n",
       "      <td>Web Development</td>\n",
       "      <td>Design WordPress Website Coding</td>\n",
       "    </tr>\n",
       "    <tr>\n",
       "      <th>3680</th>\n",
       "      <td>3680</td>\n",
       "      <td>635248</td>\n",
       "      <td>Learn and Build using Polymer</td>\n",
       "      <td>https://www.udemy.com/learn-and-build-using-po...</td>\n",
       "      <td>True</td>\n",
       "      <td>40</td>\n",
       "      <td>513</td>\n",
       "      <td>169</td>\n",
       "      <td>48</td>\n",
       "      <td>All Levels</td>\n",
       "      <td>3.5 hours</td>\n",
       "      <td>2015-12-30T16:41:42Z</td>\n",
       "      <td>Web Development</td>\n",
       "      <td>Learn Build Polymer</td>\n",
       "    </tr>\n",
       "    <tr>\n",
       "      <th>3681</th>\n",
       "      <td>3681</td>\n",
       "      <td>905096</td>\n",
       "      <td>CSS Animations: Create Amazing Effects on Your...</td>\n",
       "      <td>https://www.udemy.com/css-animations-create-am...</td>\n",
       "      <td>True</td>\n",
       "      <td>50</td>\n",
       "      <td>300</td>\n",
       "      <td>31</td>\n",
       "      <td>38</td>\n",
       "      <td>All Levels</td>\n",
       "      <td>3 hours</td>\n",
       "      <td>2016-08-11T19:06:15Z</td>\n",
       "      <td>Web Development</td>\n",
       "      <td>CSS Animations Create Amazing Effects Website</td>\n",
       "    </tr>\n",
       "    <tr>\n",
       "      <th>3682</th>\n",
       "      <td>3682</td>\n",
       "      <td>297602</td>\n",
       "      <td>Using MODX CMS to Build Websites: A Beginner's...</td>\n",
       "      <td>https://www.udemy.com/using-modx-cms-to-build-...</td>\n",
       "      <td>True</td>\n",
       "      <td>45</td>\n",
       "      <td>901</td>\n",
       "      <td>36</td>\n",
       "      <td>20</td>\n",
       "      <td>Beginner Level</td>\n",
       "      <td>2 hours</td>\n",
       "      <td>2014-09-28T19:51:11Z</td>\n",
       "      <td>Web Development</td>\n",
       "      <td>MODX CMS Build Websites Beginners Guide</td>\n",
       "    </tr>\n",
       "  </tbody>\n",
       "</table>\n",
       "<p>3683 rows × 14 columns</p>\n",
       "</div>"
      ],
      "text/plain": [
       "      Unnamed: 0  course_id  \\\n",
       "0              0    1070968   \n",
       "1              1    1113822   \n",
       "2              2    1006314   \n",
       "3              3    1210588   \n",
       "4              4    1011058   \n",
       "...          ...        ...   \n",
       "3678        3678     775618   \n",
       "3679        3679    1088178   \n",
       "3680        3680     635248   \n",
       "3681        3681     905096   \n",
       "3682        3682     297602   \n",
       "\n",
       "                                           course_title  \\\n",
       "0                    Ultimate Investment Banking Course   \n",
       "1     Complete GST Course & Certification - Grow You...   \n",
       "2     Financial Modeling for Business Analysts and C...   \n",
       "3     Beginner to Pro - Financial Analysis in Excel ...   \n",
       "4          How To Maximize Your Profits Trading Options   \n",
       "...                                                 ...   \n",
       "3678  Learn jQuery from Scratch - Master of JavaScri...   \n",
       "3679  How To Design A WordPress Website With No Codi...   \n",
       "3680                      Learn and Build using Polymer   \n",
       "3681  CSS Animations: Create Amazing Effects on Your...   \n",
       "3682  Using MODX CMS to Build Websites: A Beginner's...   \n",
       "\n",
       "                                                    url is_paid price  \\\n",
       "0     https://www.udemy.com/ultimate-investment-bank...    True   200   \n",
       "1         https://www.udemy.com/goods-and-services-tax/    True    75   \n",
       "2     https://www.udemy.com/financial-modeling-for-b...    True    45   \n",
       "3     https://www.udemy.com/complete-excel-finance-c...    True    95   \n",
       "4     https://www.udemy.com/how-to-maximize-your-pro...    True   200   \n",
       "...                                                 ...     ...   ...   \n",
       "3678  https://www.udemy.com/easy-jquery-for-beginner...    True   100   \n",
       "3679  https://www.udemy.com/how-to-make-a-wordpress-...    True    25   \n",
       "3680  https://www.udemy.com/learn-and-build-using-po...    True    40   \n",
       "3681  https://www.udemy.com/css-animations-create-am...    True    50   \n",
       "3682  https://www.udemy.com/using-modx-cms-to-build-...    True    45   \n",
       "\n",
       "      num_subscribers  num_reviews  num_lectures               level  \\\n",
       "0                2147           23            51          All Levels   \n",
       "1                2792          923           274          All Levels   \n",
       "2                2174           74            51  Intermediate Level   \n",
       "3                2451           11            36          All Levels   \n",
       "4                1276           45            26  Intermediate Level   \n",
       "...               ...          ...           ...                 ...   \n",
       "3678             1040           14            21          All Levels   \n",
       "3679              306            3            42      Beginner Level   \n",
       "3680              513          169            48          All Levels   \n",
       "3681              300           31            38          All Levels   \n",
       "3682              901           36            20      Beginner Level   \n",
       "\n",
       "     content_duration   published_timestamp           subject  \\\n",
       "0           1.5 hours  2017-01-18T20:58:58Z  Business Finance   \n",
       "1            39 hours  2017-03-09T16:34:20Z  Business Finance   \n",
       "2           2.5 hours  2016-12-19T19:26:30Z  Business Finance   \n",
       "3             3 hours  2017-05-30T20:07:24Z  Business Finance   \n",
       "4             2 hours  2016-12-13T14:57:18Z  Business Finance   \n",
       "...               ...                   ...               ...   \n",
       "3678          2 hours  2016-06-14T17:36:46Z   Web Development   \n",
       "3679        3.5 hours  2017-03-10T22:24:30Z   Web Development   \n",
       "3680        3.5 hours  2015-12-30T16:41:42Z   Web Development   \n",
       "3681          3 hours  2016-08-11T19:06:15Z   Web Development   \n",
       "3682          2 hours  2014-09-28T19:51:11Z   Web Development   \n",
       "\n",
       "                                     clean_course_title  \n",
       "0                    Ultimate Investment Banking Course  \n",
       "1     Complete GST Course  Certification  Grow Practice  \n",
       "2      Financial Modeling Business Analysts Consultants  \n",
       "3           Beginner Pro  Financial Analysis Excel 2017  \n",
       "4                      Maximize Profits Trading Options  \n",
       "...                                                 ...  \n",
       "3678    Learn jQuery Scratch  Master JavaScript library  \n",
       "3679                    Design WordPress Website Coding  \n",
       "3680                                Learn Build Polymer  \n",
       "3681      CSS Animations Create Amazing Effects Website  \n",
       "3682            MODX CMS Build Websites Beginners Guide  \n",
       "\n",
       "[3683 rows x 14 columns]"
      ]
     },
     "execution_count": 71,
     "metadata": {},
     "output_type": "execute_result"
    }
   ],
   "source": [
    "df = pd.read_csv(r\"E:\\Downloads\\udemy_courses_clean.csv\")\n",
    "df"
   ]
  },
  {
   "cell_type": "code",
   "execution_count": 73,
   "id": "672ba2cd-c5ab-4716-a4f7-092fbeed251a",
   "metadata": {},
   "outputs": [
    {
     "name": "stdout",
     "output_type": "stream",
     "text": [
      "subject\n",
      "Business Finance       1870747\n",
      "Graphic Design         1063148\n",
      "Musical Instruments     846719\n",
      "Web Development        7980572\n",
      "Name: num_subscribers, dtype: int64\n"
     ]
    }
   ],
   "source": [
    "subject_subscribers = df.groupby('subject')['num_subscribers'].sum()\n",
    "\n",
    "\n",
    "print(subject_subscribers)"
   ]
  },
  {
   "cell_type": "code",
   "execution_count": 75,
   "id": "68df4af6-242a-423a-b36b-9e400d9fb70e",
   "metadata": {},
   "outputs": [
    {
     "data": {
      "text/plain": [
       "3193.3711648112953"
      ]
     },
     "execution_count": 75,
     "metadata": {},
     "output_type": "execute_result"
    }
   ],
   "source": [
    "df['num_subscribers'].mean()"
   ]
  },
  {
   "cell_type": "code",
   "execution_count": 77,
   "id": "adba3c48-b026-4df9-bfb3-950cd850a416",
   "metadata": {},
   "outputs": [
    {
     "data": {
      "text/plain": [
       "268923"
      ]
     },
     "execution_count": 77,
     "metadata": {},
     "output_type": "execute_result"
    }
   ],
   "source": [
    "df['num_subscribers'].max()"
   ]
  },
  {
   "cell_type": "code",
   "execution_count": 79,
   "id": "a91cec44-5b6b-4775-8a8f-91dc0316ea26",
   "metadata": {},
   "outputs": [
    {
     "data": {
      "text/plain": [
       "0"
      ]
     },
     "execution_count": 79,
     "metadata": {},
     "output_type": "execute_result"
    }
   ],
   "source": [
    "df['num_subscribers'].min()\n"
   ]
  },
  {
   "cell_type": "code",
   "execution_count": 81,
   "id": "05de0742-986e-4b81-88d5-5c09df90442e",
   "metadata": {},
   "outputs": [
    {
     "data": {
      "text/plain": [
       "2832"
      ]
     },
     "execution_count": 81,
     "metadata": {},
     "output_type": "execute_result"
    }
   ],
   "source": [
    "df['num_subscribers'].idxmax()"
   ]
  },
  {
   "cell_type": "code",
   "execution_count": 83,
   "id": "189549fa-9c6e-439c-a647-345b381b3338",
   "metadata": {},
   "outputs": [
    {
     "name": "stdout",
     "output_type": "stream",
     "text": [
      "الكورس الذي يحتوي على أكبر عدد من المشتركين:\n",
      "      Unnamed: 0  course_id                          course_title  \\\n",
      "2832        2832      41295  Learn HTML5 Programming From Scratch   \n",
      "\n",
      "                                                    url is_paid price  \\\n",
      "2832  https://www.udemy.com/learn-html5-programming-...   False  Free   \n",
      "\n",
      "      num_subscribers  num_reviews  num_lectures       level content_duration  \\\n",
      "2832           268923         8629            45  All Levels       10.5 hours   \n",
      "\n",
      "       published_timestamp          subject               clean_course_title  \n",
      "2832  2013-02-14T07:03:41Z  Web Development  Learn HTML5 Programming Scratch  \n"
     ]
    }
   ],
   "source": [
    "most_subscribed_course = df[df['num_subscribers'] == df['num_subscribers'].max()]\n",
    "\n",
    "# عرض النتيجة\n",
    "print(\"الكورس الذي يحتوي على أكبر عدد من المشتركين:\")\n",
    "print(most_subscribed_course)"
   ]
  },
  {
   "cell_type": "code",
   "execution_count": 85,
   "id": "22f4102e-de41-4ef4-b02f-f4ea249b89d1",
   "metadata": {},
   "outputs": [
    {
     "data": {
      "text/plain": [
       "Unnamed: 0                                                          2832\n",
       "course_id                                                          41295\n",
       "course_title                        Learn HTML5 Programming From Scratch\n",
       "url                    https://www.udemy.com/learn-html5-programming-...\n",
       "is_paid                                                            False\n",
       "price                                                               Free\n",
       "num_subscribers                                                   268923\n",
       "num_reviews                                                         8629\n",
       "num_lectures                                                          45\n",
       "level                                                         All Levels\n",
       "content_duration                                              10.5 hours\n",
       "published_timestamp                                 2013-02-14T07:03:41Z\n",
       "subject                                                  Web Development\n",
       "clean_course_title                       Learn HTML5 Programming Scratch\n",
       "Name: 2832, dtype: object"
      ]
     },
     "execution_count": 85,
     "metadata": {},
     "output_type": "execute_result"
    }
   ],
   "source": [
    "df.iloc[2832]"
   ]
  },
  {
   "cell_type": "code",
   "execution_count": 87,
   "id": "e5690800-776e-4777-9ad5-a1181766f6ea",
   "metadata": {},
   "outputs": [
    {
     "name": "stdout",
     "output_type": "stream",
     "text": [
      "عدد الكورسات خلال كل سنة:\n",
      "year\n",
      "2011.0       5\n",
      "2012.0      45\n",
      "2013.0     202\n",
      "2014.0     491\n",
      "2015.0    1014\n",
      "2016.0    1206\n",
      "2017.0     719\n",
      "Name: count, dtype: int64\n"
     ]
    }
   ],
   "source": [
    "df['published_timestamp'] = pd.to_datetime(df['published_timestamp'], errors='coerce')\n",
    "\n",
    "# استخراج السنة من عمود التاريخ\n",
    "df['year'] = df['published_timestamp'].dt.year\n",
    "\n",
    "# حساب عدد الكورسات لكل سنة\n",
    "courses_per_year = df['year'].value_counts().sort_index()\n",
    "\n",
    "# عرض النتائج\n",
    "print(\"عدد الكورسات خلال كل سنة:\")\n",
    "print(courses_per_year)"
   ]
  },
  {
   "cell_type": "code",
   "execution_count": null,
   "id": "d12287c1-80b5-4c67-ad89-6cf5c22e493a",
   "metadata": {},
   "outputs": [],
   "source": []
  }
 ],
 "metadata": {
  "kernelspec": {
   "display_name": "Python [conda env:base] *",
   "language": "python",
   "name": "conda-base-py"
  },
  "language_info": {
   "codemirror_mode": {
    "name": "ipython",
    "version": 3
   },
   "file_extension": ".py",
   "mimetype": "text/x-python",
   "name": "python",
   "nbconvert_exporter": "python",
   "pygments_lexer": "ipython3",
   "version": "3.12.7"
  }
 },
 "nbformat": 4,
 "nbformat_minor": 5
}
